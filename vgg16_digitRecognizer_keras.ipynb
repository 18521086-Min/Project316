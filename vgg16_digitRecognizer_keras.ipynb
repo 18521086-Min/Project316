{
  "nbformat": 4,
  "nbformat_minor": 0,
  "metadata": {
    "kernelspec": {
      "display_name": "Python 3",
      "language": "python",
      "name": "python3"
    },
    "language_info": {
      "name": "python",
      "version": "3.6.4",
      "mimetype": "text/x-python",
      "codemirror_mode": {
        "name": "ipython",
        "version": 3
      },
      "pygments_lexer": "ipython3",
      "nbconvert_exporter": "python",
      "file_extension": ".py"
    },
    "colab": {
      "name": "vgg16-digitRecognizer_keras.ipynb",
      "provenance": [],
      "collapsed_sections": [],
      "include_colab_link": true
    }
  },
  "cells": [
    {
      "cell_type": "markdown",
      "metadata": {
        "id": "view-in-github",
        "colab_type": "text"
      },
      "source": [
        "<a href=\"https://colab.research.google.com/github/18521086-Min/Project316/blob/master/vgg16_digitRecognizer_keras.ipynb\" target=\"_parent\"><img src=\"https://colab.research.google.com/assets/colab-badge.svg\" alt=\"Open In Colab\"/></a>"
      ]
    },
    {
      "cell_type": "code",
      "metadata": {
        "colab": {
          "base_uri": "https://localhost:8080/"
        },
        "id": "tDb7WADgJKn3",
        "outputId": "70897225-4ac6-4b1f-9f88-8668a6f34e4b"
      },
      "source": [
        "from google.colab import drive\n",
        "drive.mount('/content/drive')"
      ],
      "execution_count": null,
      "outputs": [
        {
          "output_type": "stream",
          "text": [
            "Mounted at /content/drive\n"
          ],
          "name": "stdout"
        }
      ]
    },
    {
      "cell_type": "code",
      "metadata": {
        "_uuid": "8f2839f25d086af736a60e9eeb907d3b93b6e0e5",
        "_cell_guid": "b1076dfc-b9ad-4769-8c92-a6c4dae69d19",
        "trusted": true,
        "collapsed": true,
        "id": "_EtinoiGI4nw"
      },
      "source": [
        "import numpy as np\n",
        "import pandas as pd\n",
        "import random\n",
        "import matplotlib.pyplot as plt\n",
        "from keras import layers ,regularizers\n",
        "from keras.layers import Input, Add, Dense, Activation,BatchNormalization, Flatten, Conv2D, AveragePooling2D, MaxPooling2D,Dropout\n",
        "from keras.models import Model\n",
        "from sklearn.preprocessing import LabelBinarizer\n",
        "\n",
        "from keras.preprocessing.image import ImageDataGenerator # for Data augmentation\n",
        "from keras.callbacks import ReduceLROnPlateau"
      ],
      "execution_count": null,
      "outputs": []
    },
    {
      "cell_type": "code",
      "metadata": {
        "_cell_guid": "79c7e3d0-c299-4dcb-8224-4455121ee9b0",
        "collapsed": true,
        "_uuid": "d629ff2d2480ee46fbb7e2d37f6b5fab8052498a",
        "trusted": true,
        "id": "1Kyb4LqMI4n3"
      },
      "source": [
        "def loadData():\n",
        "    ''' read training and testing images and reshape it to (m,28*28) and also read training labels\n",
        "    \n",
        "    - parameters \n",
        "    \n",
        "        - no inputs\n",
        "\n",
        "        - outputs :\n",
        "            - trainingX : np array of shape (42000 ,28,28) contain training images \n",
        "            - trainingY : np array of shape (42000 ,) contain training data labels \n",
        "            - testX : np array of shape(28000,28,28)\n",
        "    '''\n",
        "    \n",
        "    trainPath = \"/content/drive/MyDrive/DA_CE434/train.csv\"\n",
        "    testPath = \"/content/drive/MyDrive/DA_CE434/test.csv\"\n",
        "    training_frame = pd.DataFrame(pd.read_csv(trainPath))\n",
        "    test_frame = pd.DataFrame(pd.read_csv(testPath))\n",
        "    trainingY = np.array(training_frame['label'])\n",
        "    index = [\"pixel\"+str(x) for x in range(784)] # generate list of columns indices of data frame to read pixels value by it \n",
        "    trainingX = np.array(training_frame[index])\n",
        "    trainingX= trainingX.reshape(trainingX.shape[0],28,28,1)\n",
        "    testX = np.array(test_frame[index])\n",
        "    testX = testX.reshape(testX.shape[0],28,28,1)\n",
        "    return trainingX , trainingY , testX\n",
        "    "
      ],
      "execution_count": null,
      "outputs": []
    },
    {
      "cell_type": "code",
      "metadata": {
        "trusted": true,
        "_uuid": "d35a060d13581901912116326f4b2bc8a6d5f3b9",
        "collapsed": true,
        "id": "GYJ53DDwI4n4"
      },
      "source": [
        "trainingX , trainingY , testX = loadData()"
      ],
      "execution_count": null,
      "outputs": []
    },
    {
      "cell_type": "code",
      "metadata": {
        "trusted": true,
        "_uuid": "aade795c84ae40f7d2bda6522cc43c5be2e7380e",
        "collapsed": true,
        "id": "5_Xb2ErRI4n4",
        "colab": {
          "base_uri": "https://localhost:8080/"
        },
        "outputId": "9a4cfe5d-45b5-4ab1-fe81-9c1aaac7271d"
      },
      "source": [
        "# checking the dimensions\n",
        "print(\"training x : \",trainingX.shape)\n",
        "print(\"training y : \",trainingY.shape)\n",
        "print(\"test x : \",testX.shape)"
      ],
      "execution_count": null,
      "outputs": [
        {
          "output_type": "stream",
          "text": [
            "training x :  (42000, 28, 28, 1)\n",
            "training y :  (42000,)\n",
            "test x :  (28000, 28, 28, 1)\n"
          ],
          "name": "stdout"
        }
      ]
    },
    {
      "cell_type": "code",
      "metadata": {
        "trusted": true,
        "collapsed": true,
        "_uuid": "28e046e46b09a4d280c91c9301537aef360584e4",
        "id": "Mo6-VPGUI4n4"
      },
      "source": [
        "def oneHot(y):\n",
        "    ''' convert labels into one hot coding \n",
        "        parameters:\n",
        "            - input : list of labels \n",
        "            - output : np array of one hot encoding \n",
        "    '''\n",
        "    encoder = LabelBinarizer()\n",
        "    y = encoder.fit_transform(y)\n",
        "    return y"
      ],
      "execution_count": null,
      "outputs": []
    },
    {
      "cell_type": "code",
      "metadata": {
        "trusted": true,
        "collapsed": true,
        "_uuid": "feb3bc9d09abec8989efcc6fa2e199fe42ab0ccc",
        "id": "I6DJXGP6I4n5"
      },
      "source": [
        "# this fun plot example of our images data \n",
        "def plot_figures(x,y,nrows = 3, ncols=4):\n",
        "    \"\"\"Plot random figures of data.\n",
        "\n",
        "    Parameters\n",
        "    ----------\n",
        "    x : Images\n",
        "    y : labels\n",
        "    ncols : number of columns of subplots wanted in the display\n",
        "    nrows : number of rows of subplots wanted in the figure\n",
        "    \"\"\"\n",
        "    # generate random indexs \n",
        "    indexs = random.sample(range(0, len(y)), nrows*ncols)\n",
        "    \n",
        "    x = x.reshape(x.shape[0],28,28)\n",
        "    fig, axeslist = plt.subplots(ncols=ncols, nrows=nrows,figsize=(10,10))\n",
        "    for ind,i in enumerate(indexs):\n",
        "        axeslist.ravel()[ind].imshow(x[i], cmap=plt.gray())\n",
        "        axeslist.ravel()[ind].set_title(y[i])\n",
        "        axeslist.ravel()[ind].set_axis_off()\n",
        "    #plt.tight_layout() # optional"
      ],
      "execution_count": null,
      "outputs": []
    },
    {
      "cell_type": "code",
      "metadata": {
        "trusted": true,
        "_uuid": "563a967cae0c97056b43acd79e61fdfeae65b1ee",
        "collapsed": true,
        "id": "fg6kRH52I4n6",
        "colab": {
          "base_uri": "https://localhost:8080/",
          "height": 552
        },
        "outputId": "904046f3-5a33-49bf-fd4c-00c98b4c5134"
      },
      "source": [
        "plot_figures(x = trainingX , y = trainingY)"
      ],
      "execution_count": null,
      "outputs": [
        {
          "output_type": "display_data",
          "data": {
            "image/png": "[encoded data removed]",
            "text/plain": [
              "<Figure size 720x720 with 12 Axes>"
            ]
          },
          "metadata": {
            "tags": [],
            "needs_background": "light"
          }
        }
      ]
    },
    {
      "cell_type": "code",
      "metadata": {
        "trusted": true,
        "collapsed": true,
        "_uuid": "40096ffe3fca2e7940898c0e76e2c8adf0a27392",
        "id": "FyHqO1u_I4n7"
      },
      "source": [
        "## build our model \n",
        "def vgg16(trainingX , trainingY):\n",
        "    \"\"\" implmentation of VGG16 model\n",
        "    \n",
        "    args:\n",
        "        input:\n",
        "            - trainingX : np array contain training data \n",
        "            - trainingY : np array contain training labels with out one hot coding -we will do this later in this fuc - \n",
        "            \n",
        "        output:\n",
        "            - mode : our keras mode of VGG16 \n",
        "            - trainingY : return training y after one hot encoding\n",
        "    \n",
        "    Architecture :\n",
        "            -> conv3-64 -> conv3-64\n",
        "            -> maxpool \n",
        "            -> conv3-128 ->  conv3-128\n",
        "            -> maxpool\n",
        "            -> conv3-256 -> conv3-256 -> conv1-256\n",
        "            -> maxpool\n",
        "            -> conv3-512 -> conv3-512 -> conv1-512\n",
        "            -> maxpool\n",
        "            -> conv3-512 -> conv3-512 -> conv1-512\n",
        "            -> maxpool\n",
        "            -> FC100 'relu'\n",
        "            -> FC50 'relu'\n",
        "            -> FC10  'softmax'\n",
        "            \n",
        "    \"\"\"\n",
        "\n",
        "    # create input tensor \n",
        "    inputShape = trainingX.shape\n",
        "    modelInput = Input(inputShape[1:])\n",
        "    x = modelInput\n",
        "    print(x.shape)\n",
        "    # one hot encoding for our labels\n",
        "    trainingY = oneHot(trainingY)\n",
        "    \n",
        "    # normalization \n",
        "    trainingX = trainingX /255.0\n",
        "    print(trainingY.shape)\n",
        "    # build the model\n",
        "    \n",
        "    x = Conv2D(64,(3,3),padding=\"same\", input_shape=(28,28,1),activation = 'relu',strides=(1,1),name='conv1',kernel_initializer='glorot_uniform')(x)\n",
        "    x = Conv2D(64,(3,3),padding=\"same\",activation = 'relu',strides=(1,1),name='conv2',kernel_initializer='glorot_uniform')(x)\n",
        "    \n",
        "    x =   MaxPooling2D((3, 3), strides=(2, 2) ,padding =\"same\",name=\"maxpool1\")(x)\n",
        "    \n",
        "    x = Conv2D(128,(3,3),padding=\"same\",activation = 'relu',strides=(1,1),name='conv3',kernel_initializer='glorot_uniform')(x)\n",
        "    x = Conv2D(128,(3,3),padding=\"same\",strides=(1,1),name='conv4',kernel_initializer='glorot_uniform',kernel_regularizer=regularizers.l2(0.01))(x)\n",
        "    \n",
        "    x = MaxPooling2D((3, 3), strides=(2, 2) ,padding =\"same\",name=\"maxpool2\")(x)\n",
        "    \n",
        "    x = Conv2D(256,(3,3),padding=\"same\",strides=(1,1),activation = 'relu',name='conv5',kernel_initializer='glorot_uniform')(x)\n",
        "    x = Conv2D(256,(3,3),padding=\"same\",strides=(1,1),activation = 'relu',name='conv6',kernel_initializer='glorot_uniform')(x)\n",
        "    x = Conv2D(256,(1,1),padding=\"same\",strides=(1,1),activation = 'relu',name='conv7',kernel_initializer='glorot_uniform',kernel_regularizer=regularizers.l2(0.01))(x)\n",
        "    \n",
        "    x = MaxPooling2D((3, 3), strides=(2, 2) ,padding =\"valid\",name=\"maxpool3\")(x)\n",
        "\n",
        "    x = Conv2D(512,(3,3),padding=\"same\",strides=(1,1),activation = 'relu',name='conv8',kernel_initializer='glorot_uniform')(x)\n",
        "    x = Conv2D(512,(3,3),padding=\"same\",strides=(1,1),activation = 'relu',name='conv9',kernel_initializer='glorot_uniform')(x)\n",
        "    x = Conv2D(512,(1,1),padding=\"same\",strides=(1,1),activation = 'relu',name='conv10',kernel_initializer='glorot_uniform',kernel_regularizer=regularizers.l2(0.01))(x)\n",
        "    \n",
        "    x = MaxPooling2D((3, 3), strides=(2, 2) ,padding =\"same\",name=\"maxpool4\")(x)\n",
        "    \n",
        "    x = Conv2D(512,(3,3),padding=\"same\",strides=(1,1),activation = 'relu',name='conv11',kernel_initializer='glorot_uniform')(x)\n",
        "    x = Conv2D(512,(3,3),padding=\"same\",strides=(1,1),activation = 'relu',name='conv12',kernel_initializer='glorot_uniform')(x)\n",
        "    x = Conv2D(512,(1,1),padding=\"same\",strides=(1,1),activation = 'relu',name='conv13',kernel_initializer='glorot_uniform',kernel_regularizer=regularizers.l2(0.01))(x)\n",
        "    \n",
        "    x = MaxPooling2D((3, 3), strides=(2, 2) ,padding =\"same\",name=\"maxpool5\")(x)\n",
        "    \n",
        "    #flatten x to be FC in next layer\n",
        "    x = Flatten()(x)\n",
        "    \n",
        "    #fc layers\n",
        "    x = Dense(100,name=\"fc1\", kernel_initializer = 'glorot_uniform',activation='relu')(x)\n",
        "    x = Dense(100,name=\"fc2\", kernel_initializer = 'glorot_uniform',activation='relu')(x)\n",
        "    x = Dense(10,name=\"fc3\", kernel_initializer = 'glorot_uniform',activation='softmax')(x)\n",
        "\n",
        "    #model\n",
        "    model = Model(inputs = modelInput, outputs = x, name='vgg16')\n",
        "\n",
        "    return model,trainingY\n",
        "    \n",
        "    \n",
        "    "
      ],
      "execution_count": null,
      "outputs": []
    },
    {
      "cell_type": "code",
      "metadata": {
        "trusted": true,
        "_uuid": "3d5af295ec9981caad1bfcc378eb94fcb9046079",
        "collapsed": true,
        "id": "QOdhE2yrI4n8",
        "colab": {
          "base_uri": "https://localhost:8080/"
        },
        "outputId": "5f8d886a-a977-4353-a731-5dec197b96da"
      },
      "source": [
        "model,trainingY = vgg16(trainingX,trainingY)\n",
        "model.compile(optimizer='adam',loss='categorical_crossentropy',metrics=['accuracy'])\n"
      ],
      "execution_count": null,
      "outputs": [
        {
          "output_type": "stream",
          "text": [
            "(None, 28, 28, 1)\n",
            "(42000, 10)\n"
          ],
          "name": "stdout"
        }
      ]
    },
    {
      "cell_type": "code",
      "metadata": {
        "colab": {
          "base_uri": "https://localhost:8080/"
        },
        "id": "xtSJPZqdIWZo",
        "outputId": "f20d40b1-df5d-4924-d31e-6282a84c7b8d"
      },
      "source": [
        "model.summary()"
      ],
      "execution_count": null,
      "outputs": [
        {
          "output_type": "stream",
          "text": [
            "Model: \"vgg16\"\n",
            "_________________________________________________________________\n",
            "Layer (type)                 Output Shape              Param #   \n",
            "=================================================================\n",
            "input_1 (InputLayer)         [(None, 28, 28, 1)]       0         \n",
            "_________________________________________________________________\n",
            "conv1 (Conv2D)               (None, 28, 28, 64)        640       \n",
            "_________________________________________________________________\n",
            "conv2 (Conv2D)               (None, 28, 28, 64)        36928     \n",
            "_________________________________________________________________\n",
            "maxpool1 (MaxPooling2D)      (None, 14, 14, 64)        0         \n",
            "_________________________________________________________________\n",
            "conv3 (Conv2D)               (None, 14, 14, 128)       73856     \n",
            "_________________________________________________________________\n",
            "conv4 (Conv2D)               (None, 14, 14, 128)       147584    \n",
            "_________________________________________________________________\n",
            "maxpool2 (MaxPooling2D)      (None, 7, 7, 128)         0         \n",
            "_________________________________________________________________\n",
            "conv5 (Conv2D)               (None, 7, 7, 256)         295168    \n",
            "_________________________________________________________________\n",
            "conv6 (Conv2D)               (None, 7, 7, 256)         590080    \n",
            "_________________________________________________________________\n",
            "conv7 (Conv2D)               (None, 7, 7, 256)         65792     \n",
            "_________________________________________________________________\n",
            "maxpool3 (MaxPooling2D)      (None, 3, 3, 256)         0         \n",
            "_________________________________________________________________\n",
            "conv8 (Conv2D)               (None, 3, 3, 512)         1180160   \n",
            "_________________________________________________________________\n",
            "conv9 (Conv2D)               (None, 3, 3, 512)         2359808   \n",
            "_________________________________________________________________\n",
            "conv10 (Conv2D)              (None, 3, 3, 512)         262656    \n",
            "_________________________________________________________________\n",
            "maxpool4 (MaxPooling2D)      (None, 2, 2, 512)         0         \n",
            "_________________________________________________________________\n",
            "conv11 (Conv2D)              (None, 2, 2, 512)         2359808   \n",
            "_________________________________________________________________\n",
            "conv12 (Conv2D)              (None, 2, 2, 512)         2359808   \n",
            "_________________________________________________________________\n",
            "conv13 (Conv2D)              (None, 2, 2, 512)         262656    \n",
            "_________________________________________________________________\n",
            "maxpool5 (MaxPooling2D)      (None, 1, 1, 512)         0         \n",
            "_________________________________________________________________\n",
            "flatten (Flatten)            (None, 512)               0         \n",
            "_________________________________________________________________\n",
            "fc1 (Dense)                  (None, 100)               51300     \n",
            "_________________________________________________________________\n",
            "fc2 (Dense)                  (None, 100)               10100     \n",
            "_________________________________________________________________\n",
            "fc3 (Dense)                  (None, 10)                1010      \n",
            "=================================================================\n",
            "Total params: 10,057,354\n",
            "Trainable params: 10,057,354\n",
            "Non-trainable params: 0\n",
            "_________________________________________________________________\n"
          ],
          "name": "stdout"
        }
      ]
    },
    {
      "cell_type": "code",
      "metadata": {
        "trusted": true,
        "collapsed": true,
        "_uuid": "aa02188b32f9354d4eff7a35d319c8b4f38a611a",
        "id": "_v-OR7EiI4n8"
      },
      "source": [
        "# # reduce LR \n",
        "# lr_reduce = ReduceLROnPlateau(monitor='val_acc', \n",
        "#                                             patience=3, \n",
        "#                                             verbose=1, \n",
        "#                                             factor=0.5, \n",
        "#                                             min_lr=0.00001)"
      ],
      "execution_count": null,
      "outputs": []
    },
    {
      "cell_type": "code",
      "metadata": {
        "trusted": true,
        "_uuid": "ae70d1ef98021df45ed03c692ddba2f41d16f03f",
        "collapsed": true,
        "id": "Ibx-YCSdI4n9"
      },
      "source": [
        "# Data augmentation\n",
        "aug  = ImageDataGenerator(\n",
        "        featurewise_center=False,  # set input mean to 0 over the dataset\n",
        "        samplewise_center=False,  # set each sample mean to 0\n",
        "        featurewise_std_normalization=False,  # divide inputs by std of the dataset\n",
        "        samplewise_std_normalization=False,  # divide each input by its std\n",
        "        zca_whitening=False,  # apply ZCA whitening\n",
        "        rotation_range=10,  # randomly rotate images in the range (degrees, 0 to 180)\n",
        "        zoom_range = 0.1, # Randomly zoom image \n",
        "        width_shift_range=0.1,  # randomly shift images horizontally (fraction of total width)\n",
        "        height_shift_range=0.1,  # randomly shift images vertically (fraction of total height)\n",
        "        horizontal_flip=False,  # randomly flip images\n",
        "        vertical_flip=False,\n",
        "        data_format = 'channels_last')  # randomly flip images\n",
        "aug.fit(trainingX)"
      ],
      "execution_count": null,
      "outputs": []
    },
    {
      "cell_type": "code",
      "metadata": {
        "trusted": true,
        "_uuid": "4df75c39e571e4b253f1b168b1812f0c1edf434c",
        "collapsed": true,
        "id": "CBBXZufII4n9"
      },
      "source": [
        "from sklearn.model_selection import train_test_split\n",
        "trainingX, X_val, trainingY, Y_val = train_test_split(trainingX, trainingY, test_size = 0.1, random_state=2)"
      ],
      "execution_count": null,
      "outputs": []
    },
    {
      "cell_type": "code",
      "metadata": {
        "trusted": true,
        "_uuid": "20e201e74ff80565e094dad5dba913c4d75b9fd4",
        "id": "HzJblMpWI4n9",
        "colab": {
          "base_uri": "https://localhost:8080/"
        },
        "outputId": "e576018c-dde7-4d4d-b582-7aef745dc2cb"
      },
      "source": [
        "modelHistory =model.fit(aug.flow(trainingX,\n",
        "                    trainingY,batch_size = 64),\n",
        "                    epochs = 2,\n",
        "                    validation_data=(X_val,Y_val), \n",
        "                    shuffle=True,\n",
        "                    verbose = 2)\n",
        "                    # callbacks = [lr_reduce])"
      ],
      "execution_count": null,
      "outputs": [
        {
          "output_type": "stream",
          "text": [
            "Epoch 1/2\n",
            "591/591 - 2350s - loss: 2.1940 - accuracy: 0.5784 - val_loss: 0.3741 - val_accuracy: 0.9467\n",
            "Epoch 2/2\n",
            "591/591 - 2328s - loss: 0.2852 - accuracy: 0.9549 - val_loss: 0.2602 - val_accuracy: 0.9617\n"
          ],
          "name": "stdout"
        }
      ]
    },
    {
      "cell_type": "code",
      "metadata": {
        "trusted": true,
        "collapsed": true,
        "_uuid": "993885c6b36b25aca539bdd07406f95ea1a9a899",
        "id": "n9UgkJwqI4n-"
      },
      "source": [
        "def plotModelHistory(modeHistory):\n",
        "    # summarize history for accuracy\n",
        "    history = modeHistory\n",
        "    plt.plot(history.history['accuracy'])\n",
        "    plt.plot(history.history['val_accuracy'])\n",
        "    plt.title('model accuracy')\n",
        "    plt.ylabel('accuracy')\n",
        "    plt.xlabel('epoch')\n",
        "    plt.legend(['train', 'test'], loc='upper left')\n",
        "    plt.show()\n",
        "    # summarize history for loss\n",
        "    plt.plot(history.history['loss'])\n",
        "    plt.plot(history.history['val_loss'])\n",
        "    plt.title('model loss')\n",
        "    plt.ylabel('loss')\n",
        "    plt.xlabel('epoch')\n",
        "    plt.legend(['train', 'test'], loc='upper left')\n",
        "    plt.show()"
      ],
      "execution_count": null,
      "outputs": []
    },
    {
      "cell_type": "code",
      "metadata": {
        "trusted": true,
        "_uuid": "b84442a64048149a81be11b524bd5dd93e172ab8",
        "id": "c-12ByBVI4n-",
        "colab": {
          "base_uri": "https://localhost:8080/",
          "height": 573
        },
        "outputId": "464ee6cb-9bd6-4ae5-cab2-f9f90e809cf9"
      },
      "source": [
        "plotModelHistory(modelHistory)"
      ],
      "execution_count": null,
      "outputs": [
        {
          "output_type": "display_data",
          "data": {
            "image/png": "[encoded data removed]",
            "text/plain": [
              "<Figure size 432x288 with 1 Axes>"
            ]
          },
          "metadata": {
            "tags": [],
            "needs_background": "light"
          }
        },
        {
          "output_type": "display_data",
          "data": {
            "image/png": "[encoded data removed]",
            "text/plain": [
              "<Figure size 432x288 with 1 Axes>"
            ]
          },
          "metadata": {
            "tags": [],
            "needs_background": "light"
          }
        }
      ]
    },
    {
      "cell_type": "code",
      "metadata": {
        "trusted": true,
        "collapsed": true,
        "_uuid": "fa370f7165b0988e0f772c819f67073a498bc8ce",
        "id": "e-8qx3tEI4n-"
      },
      "source": [
        "#save model\n",
        "model.save_weights('/content/drive/MyDrive/DA_CE434/vgg16_weights.h5')\n",
        "model.save('/content/drive/MyDrive/DA_CE434/vgg16-digitRecognizer_keras.h5')"
      ],
      "execution_count": null,
      "outputs": []
    },
    {
      "cell_type": "code",
      "metadata": {
        "trusted": true,
        "collapsed": true,
        "_uuid": "d8af094c8338e194ee8f6846571670909258f358",
        "id": "fsNsjRS9I4n_"
      },
      "source": [
        "# create array for testY\n",
        "m = testX.shape[0]\n",
        "testY = np.zeros((m,1))\n",
        "testY = model.predict(testX)"
      ],
      "execution_count": null,
      "outputs": []
    },
    {
      "cell_type": "code",
      "metadata": {
        "trusted": true,
        "_uuid": "d2d17a6d9a6d4bdf15e46ba4dd85415cd4defd55",
        "id": "auGL5u24I4n_",
        "colab": {
          "base_uri": "https://localhost:8080/",
          "height": 552
        },
        "outputId": "d79e9e88-3023-4bc8-cdc3-51b8e7098d12"
      },
      "source": [
        "# plot some test image with there predicted label\n",
        "finalY = np.argmax(testY,axis=1)\n",
        "plot_figures(testX,finalY,nrows = 3, ncols=4)\n"
      ],
      "execution_count": null,
      "outputs": [
        {
          "output_type": "display_data",
          "data": {
            "image/png": "[encoded data removed]",
            "text/plain": [
              "<Figure size 720x720 with 12 Axes>"
            ]
          },
          "metadata": {
            "tags": [],
            "needs_background": "light"
          }
        }
      ]
    },
    {
      "cell_type": "code",
      "metadata": {
        "trusted": true,
        "collapsed": true,
        "_uuid": "d500511a6b007b274ce56490d99566a7080031f5",
        "id": "zvWqXwrLI4n_"
      },
      "source": [
        "# save submission file \n",
        "frame = pd.DataFrame({'Label': finalY.T.squeeze()})\n",
        "frame = frame.reset_index(drop=True)\n",
        "frame.index += 1 \n",
        "frame.to_csv(\"Digite Recognize.csv\", index_label='ImageId')"
      ],
      "execution_count": null,
      "outputs": []
    },
    {
      "cell_type": "code",
      "metadata": {
        "trusted": true,
        "_uuid": "c25e0f89ab06a8b23236a39845d52d0e9d32d782",
        "id": "F0KSZ5MWI4n_",
        "colab": {
          "base_uri": "https://localhost:8080/"
        },
        "outputId": "e01029a8-120a-4685-f1ec-c1e8f7455442"
      },
      "source": [
        "print(frame)"
      ],
      "execution_count": null,
      "outputs": [
        {
          "output_type": "stream",
          "text": [
            "       Label\n",
            "1          2\n",
            "2          0\n",
            "3          9\n",
            "4          0\n",
            "5          3\n",
            "...      ...\n",
            "27996      9\n",
            "27997      7\n",
            "27998      3\n",
            "27999      9\n",
            "28000      2\n",
            "\n",
            "[28000 rows x 1 columns]\n"
          ],
          "name": "stdout"
        }
      ]
    }
  ]
}