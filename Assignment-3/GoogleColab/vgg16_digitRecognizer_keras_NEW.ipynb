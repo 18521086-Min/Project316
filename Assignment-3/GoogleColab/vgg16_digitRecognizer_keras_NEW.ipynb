{
  "nbformat": 4,
  "nbformat_minor": 0,
  "metadata": {
    "colab": {
      "name": "Copy of Copy of Copy of Copy of vgg16-digitRecognizer_keras.ipynb",
      "provenance": [],
      "collapsed_sections": []
    },
    "kernelspec": {
      "display_name": "Python 3",
      "language": "python",
      "name": "python3"
    },
    "language_info": {
      "codemirror_mode": {
        "name": "ipython",
        "version": 3
      },
      "file_extension": ".py",
      "mimetype": "text/x-python",
      "name": "python",
      "nbconvert_exporter": "python",
      "pygments_lexer": "ipython3",
      "version": "3.6.4"
    }
  },
  "cells": [
    {
      "cell_type": "code",
      "metadata": {
        "colab": {
          "base_uri": "https://localhost:8080/"
        },
        "id": "tDb7WADgJKn3",
        "outputId": "22c5ddb5-b87b-4537-bb80-c6c89f7d67a1"
      },
      "source": [
        "from google.colab import drive\n",
        "drive.mount('/content/drive')"
      ],
      "execution_count": 23,
      "outputs": [
        {
          "output_type": "stream",
          "text": [
            "Drive already mounted at /content/drive; to attempt to forcibly remount, call drive.mount(\"/content/drive\", force_remount=True).\n"
          ],
          "name": "stdout"
        }
      ]
    },
    {
      "cell_type": "code",
      "metadata": {
        "collapsed": true,
        "id": "_EtinoiGI4nw"
      },
      "source": [
        "import numpy as np\n",
        "import pandas as pd\n",
        "import random\n",
        "import matplotlib.pyplot as plt\n",
        "from keras import layers ,regularizers\n",
        "from keras.layers import Input, Add, Dense, Activation,BatchNormalization, Flatten, Conv2D, AveragePooling2D, MaxPooling2D,Dropout\n",
        "from keras.models import Model\n",
        "from sklearn.preprocessing import LabelBinarizer\n",
        "\n",
        "from keras.preprocessing.image import ImageDataGenerator # for Data augmentation\n",
        "from keras.callbacks import ReduceLROnPlateau"
      ],
      "execution_count": 24,
      "outputs": []
    },
    {
      "cell_type": "code",
      "metadata": {
        "collapsed": true,
        "id": "1Kyb4LqMI4n3"
      },
      "source": [
        "def loadData():\n",
        "    ''' read training and testing images and reshape it to (m,28*28) and also read training labels\n",
        "    \n",
        "    - parameters \n",
        "    \n",
        "        - no inputs\n",
        "\n",
        "        - outputs :\n",
        "            - trainingX : np array of shape (42000 ,28,28) contain training images \n",
        "            - trainingY : np array of shape (42000 ,) contain training data labels \n",
        "            - testX : np array of shape(28000,28,28)\n",
        "    '''\n",
        "    \n",
        "    trainPath = \"/content/drive/MyDrive/DA_CE434/train.csv\"\n",
        "    testPath = \"/content/drive/MyDrive/DA_CE434/test.csv\"\n",
        "    training_frame = pd.DataFrame(pd.read_csv(trainPath))\n",
        "    test_frame = pd.DataFrame(pd.read_csv(testPath))\n",
        "    trainingY = np.array(training_frame['label'])\n",
        "    index = [\"pixel\"+str(x) for x in range(784)] # generate list of columns indices of data frame to read pixels value by it \n",
        "    trainingX = np.array(training_frame[index])\n",
        "    trainingX= trainingX.reshape(trainingX.shape[0],28,28,1)\n",
        "    testX = np.array(test_frame[index])\n",
        "    testX = testX.reshape(testX.shape[0],28,28,1)\n",
        "    return trainingX , trainingY , testX\n",
        "    "
      ],
      "execution_count": 25,
      "outputs": []
    },
    {
      "cell_type": "code",
      "metadata": {
        "collapsed": true,
        "id": "GYJ53DDwI4n4"
      },
      "source": [
        "trainingX , trainingY , testX = loadData()"
      ],
      "execution_count": 26,
      "outputs": []
    },
    {
      "cell_type": "code",
      "metadata": {
        "colab": {
          "base_uri": "https://localhost:8080/"
        },
        "collapsed": true,
        "id": "5_Xb2ErRI4n4",
        "outputId": "03143afb-f629-44cf-aa6b-40bfb4f98552"
      },
      "source": [
        "# checking the dimensions\n",
        "print(\"training x : \",trainingX.shape)\n",
        "print(\"training y : \",trainingY.shape)\n",
        "print(\"test x : \",testX.shape)"
      ],
      "execution_count": 27,
      "outputs": [
        {
          "output_type": "stream",
          "text": [
            "training x :  (42000, 28, 28, 1)\n",
            "training y :  (42000,)\n",
            "test x :  (28000, 28, 28, 1)\n"
          ],
          "name": "stdout"
        }
      ]
    },
    {
      "cell_type": "code",
      "metadata": {
        "collapsed": true,
        "id": "Mo6-VPGUI4n4"
      },
      "source": [
        "def oneHot(y):\n",
        "    ''' convert labels into one hot coding \n",
        "        parameters:\n",
        "            - input : list of labels \n",
        "            - output : np array of one hot encoding \n",
        "    '''\n",
        "    encoder = LabelBinarizer()\n",
        "    y = encoder.fit_transform(y)\n",
        "    return y"
      ],
      "execution_count": 28,
      "outputs": []
    },
    {
      "cell_type": "code",
      "metadata": {
        "collapsed": true,
        "id": "I6DJXGP6I4n5"
      },
      "source": [
        "# this fun plot example of our images data \n",
        "def plot_figures(x,y,nrows = 3, ncols=4):\n",
        "    \"\"\"Plot random figures of data.\n",
        "\n",
        "    Parameters\n",
        "    ----------\n",
        "    x : Images\n",
        "    y : labels\n",
        "    ncols : number of columns of subplots wanted in the display\n",
        "    nrows : number of rows of subplots wanted in the figure\n",
        "    \"\"\"\n",
        "    # generate random indexs \n",
        "    indexs = random.sample(range(0, len(y)), nrows*ncols)\n",
        "    \n",
        "    x = x.reshape(x.shape[0],28,28)\n",
        "    fig, axeslist = plt.subplots(ncols=ncols, nrows=nrows,figsize=(10,10))\n",
        "    for ind,i in enumerate(indexs):\n",
        "        axeslist.ravel()[ind].imshow(x[i], cmap=plt.gray())\n",
        "        axeslist.ravel()[ind].set_title(y[i])\n",
        "        axeslist.ravel()[ind].set_axis_off()\n",
        "    #plt.tight_layout() # optional"
      ],
      "execution_count": 29,
      "outputs": []
    },
    {
      "cell_type": "code",
      "metadata": {
        "colab": {
          "base_uri": "https://localhost:8080/",
          "height": 552
        },
        "collapsed": true,
        "id": "fg6kRH52I4n6",
        "outputId": "ce128d2e-f41f-4e75-aebc-6f69dde5f110"
      },
      "source": [
        "plot_figures(x = trainingX , y = trainingY)"
      ],
      "execution_count": 30,
      "outputs": [
        {
          "output_type": "display_data",
          "data": {
            "image/png": "[encoded data removed]",
            "text/plain": [
              "<Figure size 720x720 with 12 Axes>"
            ]
          },
          "metadata": {
            "tags": [],
            "needs_background": "light"
          }
        }
      ]
    },
    {
      "cell_type": "code",
      "metadata": {
        "collapsed": true,
        "id": "FyHqO1u_I4n7"
      },
      "source": [
        "## build our model \n",
        "def vgg16(trainingX , trainingY):\n",
        "    \"\"\" implmentation of VGG16 model\n",
        "    \n",
        "    args:\n",
        "        input:\n",
        "            - trainingX : np array contain training data \n",
        "            - trainingY : np array contain training labels with out one hot coding -we will do this later in this fuc - \n",
        "            \n",
        "        output:\n",
        "            - mode : our keras mode of VGG16 \n",
        "            - trainingY : return training y after one hot encoding\n",
        "    \n",
        "    Architecture :\n",
        "            -> conv3-64 -> conv3-64\n",
        "            -> maxpool \n",
        "            -> conv3-128 ->  conv3-128\n",
        "            -> maxpool\n",
        "            -> conv3-256 -> conv3-256 -> conv1-256\n",
        "            -> maxpool\n",
        "            -> conv3-512 -> conv3-512 -> conv1-512\n",
        "            -> maxpool\n",
        "            -> conv3-512 -> conv3-512 -> conv1-512\n",
        "            -> maxpool\n",
        "            -> FC100 'relu'\n",
        "            -> FC50 'relu'\n",
        "            -> FC10  'softmax'\n",
        "            \n",
        "    \"\"\"\n",
        "\n",
        "    # create input tensor \n",
        "    inputShape = trainingX.shape\n",
        "    modelInput = Input(inputShape[1:])\n",
        "    x = modelInput\n",
        "    print(x.shape)\n",
        "    # one hot encoding for our labels\n",
        "    trainingY = oneHot(trainingY)\n",
        "    \n",
        "    # normalization \n",
        "    trainingX = trainingX /255.0\n",
        "    print(trainingY.shape)\n",
        "    # build the model\n",
        "    \n",
        "    x = Conv2D(2,(3,3),padding=\"same\", input_shape=(28,28,1),activation = 'relu',strides=(1,1),name='conv1',kernel_initializer='glorot_uniform')(x)\n",
        "    x = Conv2D(2,(3,3),padding=\"same\",activation = 'relu',strides=(1,1),name='conv2',kernel_initializer='glorot_uniform')(x)\n",
        "    \n",
        "    x =   MaxPooling2D((3, 3), strides=(2, 2) ,padding =\"same\",name=\"maxpool1\")(x)\n",
        "    \n",
        "    x = Conv2D(4,(3,3),padding=\"same\",activation = 'relu',strides=(1,1),name='conv3',kernel_initializer='glorot_uniform')(x)\n",
        "    x = Conv2D(4,(3,3),padding=\"same\",strides=(1,1),name='conv4',kernel_initializer='glorot_uniform',kernel_regularizer=regularizers.l2(0.01))(x)\n",
        "    \n",
        "    x = MaxPooling2D((3, 3), strides=(2, 2) ,padding =\"same\",name=\"maxpool2\")(x)\n",
        "    \n",
        "    x = Conv2D(6,(3,3),padding=\"same\",strides=(1,1),activation = 'relu',name='conv5',kernel_initializer='glorot_uniform')(x)\n",
        "    x = Conv2D(6,(3,3),padding=\"same\",strides=(1,1),activation = 'relu',name='conv6',kernel_initializer='glorot_uniform')(x)\n",
        "    x = Conv2D(6,(1,1),padding=\"same\",strides=(1,1),activation = 'relu',name='conv7',kernel_initializer='glorot_uniform',kernel_regularizer=regularizers.l2(0.01))(x)\n",
        "    \n",
        "    x = MaxPooling2D((3, 3), strides=(2, 2) ,padding =\"valid\",name=\"maxpool3\")(x)\n",
        "\n",
        "    x = Conv2D(8,(3,3),padding=\"same\",strides=(1,1),activation = 'relu',name='conv8',kernel_initializer='glorot_uniform')(x)\n",
        "    x = Conv2D(8,(3,3),padding=\"same\",strides=(1,1),activation = 'relu',name='conv9',kernel_initializer='glorot_uniform')(x)\n",
        "    x = Conv2D(8,(1,1),padding=\"same\",strides=(1,1),activation = 'relu',name='conv10',kernel_initializer='glorot_uniform',kernel_regularizer=regularizers.l2(0.01))(x)\n",
        "    \n",
        "    x = MaxPooling2D((3, 3), strides=(2, 2) ,padding =\"same\",name=\"maxpool4\")(x)\n",
        "    \n",
        "    x = Conv2D(16,(3,3),padding=\"same\",strides=(1,1),activation = 'relu',name='conv11',kernel_initializer='glorot_uniform')(x)\n",
        "    x = Conv2D(16,(3,3),padding=\"same\",strides=(1,1),activation = 'relu',name='conv12',kernel_initializer='glorot_uniform')(x)\n",
        "    x = Conv2D(10,(1,1),padding=\"same\",strides=(1,1),activation = 'relu',name='conv13',kernel_initializer='glorot_uniform',kernel_regularizer=regularizers.l2(0.01))(x)\n",
        "    \n",
        "    x = MaxPooling2D((3, 3), strides=(2, 2) ,padding =\"same\",name=\"maxpool5\")(x)\n",
        "    \n",
        "    #flatten x to be FC in next layer\n",
        "    x = Flatten()(x)\n",
        "    \n",
        "    #fc layers\n",
        "    x = Dense(10,name=\"fc1\", kernel_initializer = 'glorot_uniform',activation='relu')(x)\n",
        "    x = Dense(10,name=\"fc2\", kernel_initializer = 'glorot_uniform',activation='relu')(x)\n",
        "    x = Dense(10,name=\"fc3\", kernel_initializer = 'glorot_uniform',activation='softmax')(x)\n",
        "\n",
        "    #model\n",
        "    model = Model(inputs = modelInput, outputs = x, name='vgg16')\n",
        "\n",
        "    return model,trainingY\n",
        "    \n",
        "    \n",
        "    "
      ],
      "execution_count": 31,
      "outputs": []
    },
    {
      "cell_type": "code",
      "metadata": {
        "colab": {
          "base_uri": "https://localhost:8080/"
        },
        "collapsed": true,
        "id": "QOdhE2yrI4n8",
        "outputId": "82425d54-72ed-4dc8-a7da-6dec69ce273c"
      },
      "source": [
        "model,trainingY = vgg16(trainingX,trainingY)\n",
        "model.compile(optimizer='adam',loss='categorical_crossentropy',metrics=['accuracy'])\n"
      ],
      "execution_count": 32,
      "outputs": [
        {
          "output_type": "stream",
          "text": [
            "(None, 28, 28, 1)\n",
            "(42000, 10)\n"
          ],
          "name": "stdout"
        }
      ]
    },
    {
      "cell_type": "code",
      "metadata": {
        "colab": {
          "base_uri": "https://localhost:8080/"
        },
        "id": "xtSJPZqdIWZo",
        "outputId": "d604dc07-3e1c-4e16-802a-b1247a98486e"
      },
      "source": [
        "model.summary()"
      ],
      "execution_count": 33,
      "outputs": [
        {
          "output_type": "stream",
          "text": [
            "Model: \"vgg16\"\n",
            "_________________________________________________________________\n",
            "Layer (type)                 Output Shape              Param #   \n",
            "=================================================================\n",
            "input_2 (InputLayer)         [(None, 28, 28, 1)]       0         \n",
            "_________________________________________________________________\n",
            "conv1 (Conv2D)               (None, 28, 28, 2)         20        \n",
            "_________________________________________________________________\n",
            "conv2 (Conv2D)               (None, 28, 28, 2)         38        \n",
            "_________________________________________________________________\n",
            "maxpool1 (MaxPooling2D)      (None, 14, 14, 2)         0         \n",
            "_________________________________________________________________\n",
            "conv3 (Conv2D)               (None, 14, 14, 4)         76        \n",
            "_________________________________________________________________\n",
            "conv4 (Conv2D)               (None, 14, 14, 4)         148       \n",
            "_________________________________________________________________\n",
            "maxpool2 (MaxPooling2D)      (None, 7, 7, 4)           0         \n",
            "_________________________________________________________________\n",
            "conv5 (Conv2D)               (None, 7, 7, 6)           222       \n",
            "_________________________________________________________________\n",
            "conv6 (Conv2D)               (None, 7, 7, 6)           330       \n",
            "_________________________________________________________________\n",
            "conv7 (Conv2D)               (None, 7, 7, 6)           42        \n",
            "_________________________________________________________________\n",
            "maxpool3 (MaxPooling2D)      (None, 3, 3, 6)           0         \n",
            "_________________________________________________________________\n",
            "conv8 (Conv2D)               (None, 3, 3, 8)           440       \n",
            "_________________________________________________________________\n",
            "conv9 (Conv2D)               (None, 3, 3, 8)           584       \n",
            "_________________________________________________________________\n",
            "conv10 (Conv2D)              (None, 3, 3, 8)           72        \n",
            "_________________________________________________________________\n",
            "maxpool4 (MaxPooling2D)      (None, 2, 2, 8)           0         \n",
            "_________________________________________________________________\n",
            "conv11 (Conv2D)              (None, 2, 2, 16)          1168      \n",
            "_________________________________________________________________\n",
            "conv12 (Conv2D)              (None, 2, 2, 16)          2320      \n",
            "_________________________________________________________________\n",
            "conv13 (Conv2D)              (None, 2, 2, 10)          170       \n",
            "_________________________________________________________________\n",
            "maxpool5 (MaxPooling2D)      (None, 1, 1, 10)          0         \n",
            "_________________________________________________________________\n",
            "flatten_1 (Flatten)          (None, 10)                0         \n",
            "_________________________________________________________________\n",
            "fc1 (Dense)                  (None, 10)                110       \n",
            "_________________________________________________________________\n",
            "fc2 (Dense)                  (None, 10)                110       \n",
            "_________________________________________________________________\n",
            "fc3 (Dense)                  (None, 10)                110       \n",
            "=================================================================\n",
            "Total params: 5,960\n",
            "Trainable params: 5,960\n",
            "Non-trainable params: 0\n",
            "_________________________________________________________________\n"
          ],
          "name": "stdout"
        }
      ]
    },
    {
      "cell_type": "code",
      "metadata": {
        "collapsed": true,
        "id": "_v-OR7EiI4n8"
      },
      "source": [
        "# # reduce LR \n",
        "# lr_reduce = ReduceLROnPlateau(monitor='val_acc', \n",
        "#                                             patience=3, \n",
        "#                                             verbose=1, \n",
        "#                                             factor=0.5, \n",
        "#                                             min_lr=0.00001)"
      ],
      "execution_count": 34,
      "outputs": []
    },
    {
      "cell_type": "code",
      "metadata": {
        "collapsed": true,
        "id": "Ibx-YCSdI4n9"
      },
      "source": [
        "# Data augmentation\n",
        "aug  = ImageDataGenerator(\n",
        "        featurewise_center=False,  # set input mean to 0 over the dataset\n",
        "        samplewise_center=False,  # set each sample mean to 0\n",
        "        featurewise_std_normalization=False,  # divide inputs by std of the dataset\n",
        "        samplewise_std_normalization=False,  # divide each input by its std\n",
        "        zca_whitening=False,  # apply ZCA whitening\n",
        "        rotation_range=10,  # randomly rotate images in the range (degrees, 0 to 180)\n",
        "        zoom_range = 0.1, # Randomly zoom image \n",
        "        width_shift_range=0.1,  # randomly shift images horizontally (fraction of total width)\n",
        "        height_shift_range=0.1,  # randomly shift images vertically (fraction of total height)\n",
        "        horizontal_flip=False,  # randomly flip images\n",
        "        vertical_flip=False,\n",
        "        data_format = 'channels_last')  # randomly flip images\n",
        "aug.fit(trainingX)"
      ],
      "execution_count": 35,
      "outputs": []
    },
    {
      "cell_type": "code",
      "metadata": {
        "collapsed": true,
        "id": "CBBXZufII4n9"
      },
      "source": [
        "from sklearn.model_selection import train_test_split\n",
        "trainingX, X_val, trainingY, Y_val = train_test_split(trainingX, trainingY, test_size = 0.1, random_state=2)"
      ],
      "execution_count": 36,
      "outputs": []
    },
    {
      "cell_type": "code",
      "metadata": {
        "colab": {
          "base_uri": "https://localhost:8080/"
        },
        "collapsed": true,
        "id": "HzJblMpWI4n9",
        "outputId": "24598088-8927-42d6-fee7-94a5361ed18e"
      },
      "source": [
        "modelHistory =model.fit(aug.flow(trainingX,\n",
        "                    trainingY,batch_size = 64),\n",
        "                    epochs = 20,\n",
        "                    validation_data=(X_val,Y_val), \n",
        "                    shuffle=True,\n",
        "                    verbose = 2)\n",
        "                    # callbacks = [lr_reduce])"
      ],
      "execution_count": 37,
      "outputs": [
        {
          "output_type": "stream",
          "text": [
            "Epoch 1/20\n",
            "591/591 - 35s - loss: 1.5639 - accuracy: 0.5060 - val_loss: 0.8724 - val_accuracy: 0.7669\n",
            "Epoch 2/20\n",
            "591/591 - 34s - loss: 0.8080 - accuracy: 0.7803 - val_loss: 0.5460 - val_accuracy: 0.8633\n",
            "Epoch 3/20\n",
            "591/591 - 34s - loss: 0.6151 - accuracy: 0.8397 - val_loss: 0.4455 - val_accuracy: 0.8886\n",
            "Epoch 4/20\n",
            "591/591 - 34s - loss: 0.5106 - accuracy: 0.8710 - val_loss: 0.4690 - val_accuracy: 0.8743\n",
            "Epoch 5/20\n",
            "591/591 - 34s - loss: 0.4453 - accuracy: 0.8906 - val_loss: 0.3229 - val_accuracy: 0.9267\n",
            "Epoch 6/20\n",
            "591/591 - 34s - loss: 0.3958 - accuracy: 0.9036 - val_loss: 0.2912 - val_accuracy: 0.9293\n",
            "Epoch 7/20\n",
            "591/591 - 34s - loss: 0.3681 - accuracy: 0.9113 - val_loss: 0.2756 - val_accuracy: 0.9386\n",
            "Epoch 8/20\n",
            "591/591 - 34s - loss: 0.3316 - accuracy: 0.9193 - val_loss: 0.2685 - val_accuracy: 0.9383\n",
            "Epoch 9/20\n",
            "591/591 - 34s - loss: 0.3133 - accuracy: 0.9243 - val_loss: 0.2484 - val_accuracy: 0.9421\n",
            "Epoch 10/20\n",
            "591/591 - 34s - loss: 0.2950 - accuracy: 0.9273 - val_loss: 0.2338 - val_accuracy: 0.9481\n",
            "Epoch 11/20\n",
            "591/591 - 34s - loss: 0.2826 - accuracy: 0.9305 - val_loss: 0.2228 - val_accuracy: 0.9512\n",
            "Epoch 12/20\n",
            "591/591 - 34s - loss: 0.2666 - accuracy: 0.9360 - val_loss: 0.2327 - val_accuracy: 0.9488\n",
            "Epoch 13/20\n",
            "591/591 - 34s - loss: 0.2617 - accuracy: 0.9351 - val_loss: 0.1945 - val_accuracy: 0.9560\n",
            "Epoch 14/20\n",
            "591/591 - 34s - loss: 0.2481 - accuracy: 0.9388 - val_loss: 0.1767 - val_accuracy: 0.9579\n",
            "Epoch 15/20\n",
            "591/591 - 34s - loss: 0.2465 - accuracy: 0.9394 - val_loss: 0.2161 - val_accuracy: 0.9471\n",
            "Epoch 16/20\n",
            "591/591 - 34s - loss: 0.2284 - accuracy: 0.9433 - val_loss: 0.1737 - val_accuracy: 0.9586\n",
            "Epoch 17/20\n",
            "591/591 - 37s - loss: 0.2221 - accuracy: 0.9455 - val_loss: 0.1704 - val_accuracy: 0.9598\n",
            "Epoch 18/20\n",
            "591/591 - 33s - loss: 0.2215 - accuracy: 0.9442 - val_loss: 0.1783 - val_accuracy: 0.9562\n",
            "Epoch 19/20\n",
            "591/591 - 33s - loss: 0.2144 - accuracy: 0.9458 - val_loss: 0.1540 - val_accuracy: 0.9636\n",
            "Epoch 20/20\n",
            "591/591 - 33s - loss: 0.2166 - accuracy: 0.9453 - val_loss: 0.1794 - val_accuracy: 0.9567\n"
          ],
          "name": "stdout"
        }
      ]
    },
    {
      "cell_type": "code",
      "metadata": {
        "collapsed": true,
        "id": "n9UgkJwqI4n-"
      },
      "source": [
        "def plotModelHistory(modeHistory):\n",
        "    # summarize history for accuracy\n",
        "    history = modeHistory\n",
        "    plt.plot(history.history['accuracy'])\n",
        "    plt.plot(history.history['val_accuracy'])\n",
        "    plt.title('model accuracy')\n",
        "    plt.ylabel('accuracy')\n",
        "    plt.xlabel('epoch')\n",
        "    plt.legend(['train', 'test'], loc='upper left')\n",
        "    plt.show()\n",
        "    # summarize history for loss\n",
        "    plt.plot(history.history['loss'])\n",
        "    plt.plot(history.history['val_loss'])\n",
        "    plt.title('model loss')\n",
        "    plt.ylabel('loss')\n",
        "    plt.xlabel('epoch')\n",
        "    plt.legend(['train', 'test'], loc='upper left')\n",
        "    plt.show()"
      ],
      "execution_count": 38,
      "outputs": []
    },
    {
      "cell_type": "code",
      "metadata": {
        "collapsed": true,
        "id": "c-12ByBVI4n-",
        "colab": {
          "base_uri": "https://localhost:8080/",
          "height": 573
        },
        "outputId": "6daf9598-a835-4e50-e047-d219255cfe7e"
      },
      "source": [
        "plotModelHistory(modelHistory)"
      ],
      "execution_count": 39,
      "outputs": [
        {
          "output_type": "display_data",
          "data": {
            "image/png": "[encoded data removed]",
            "text/plain": [
              "<Figure size 432x288 with 1 Axes>"
            ]
          },
          "metadata": {
            "tags": [],
            "needs_background": "light"
          }
        },
        {
          "output_type": "display_data",
          "data": {
            "image/png": "[encoded data removed]",
            "text/plain": [
              "<Figure size 432x288 with 1 Axes>"
            ]
          },
          "metadata": {
            "tags": [],
            "needs_background": "light"
          }
        }
      ]
    },
    {
      "cell_type": "code",
      "metadata": {
        "collapsed": true,
        "id": "e-8qx3tEI4n-"
      },
      "source": [
        "#save model\n",
        "model.save_weights('/content/drive/MyDrive/DA_CE434/vgg16_weights.h5')\n",
        "model.save('/content/drive/MyDrive/DA_CE434/vgg16-digitRecognizer_keras.h5')"
      ],
      "execution_count": 40,
      "outputs": []
    },
    {
      "cell_type": "code",
      "metadata": {
        "collapsed": true,
        "id": "fsNsjRS9I4n_"
      },
      "source": [
        "# create array for testY\n",
        "m = testX.shape[0]\n",
        "testY = np.zeros((m,1))\n",
        "testY = model.predict(testX)"
      ],
      "execution_count": 41,
      "outputs": []
    },
    {
      "cell_type": "code",
      "metadata": {
        "collapsed": true,
        "id": "auGL5u24I4n_",
        "colab": {
          "base_uri": "https://localhost:8080/",
          "height": 552
        },
        "outputId": "01b10928-3468-4478-85aa-f83f4cd813f7"
      },
      "source": [
        "# plot some test image with there predicted label\n",
        "finalY = np.argmax(testY,axis=1)\n",
        "plot_figures(testX,finalY,nrows = 3, ncols=4)\n"
      ],
      "execution_count": 42,
      "outputs": [
        {
          "output_type": "display_data",
          "data": {
            "image/png": "[encoded data removed]",
            "text/plain": [
              "<Figure size 720x720 with 12 Axes>"
            ]
          },
          "metadata": {
            "tags": [],
            "needs_background": "light"
          }
        }
      ]
    },
    {
      "cell_type": "code",
      "metadata": {
        "collapsed": true,
        "id": "zvWqXwrLI4n_"
      },
      "source": [
        "# save submission file \n",
        "frame = pd.DataFrame({'Label': finalY.T.squeeze()})\n",
        "frame = frame.reset_index(drop=True)\n",
        "frame.index += 1 \n",
        "frame.to_csv(\"Digite Recognize.csv\", index_label='ImageId')"
      ],
      "execution_count": 43,
      "outputs": []
    },
    {
      "cell_type": "code",
      "metadata": {
        "collapsed": true,
        "id": "F0KSZ5MWI4n_",
        "colab": {
          "base_uri": "https://localhost:8080/"
        },
        "outputId": "60efeb69-4d3d-4b3c-ed50-babca7ff7f21"
      },
      "source": [
        "print(frame)"
      ],
      "execution_count": 44,
      "outputs": [
        {
          "output_type": "stream",
          "text": [
            "       Label\n",
            "1          2\n",
            "2          0\n",
            "3          8\n",
            "4          0\n",
            "5          3\n",
            "...      ...\n",
            "27996      9\n",
            "27997      7\n",
            "27998      3\n",
            "27999      9\n",
            "28000      2\n",
            "\n",
            "[28000 rows x 1 columns]\n"
          ],
          "name": "stdout"
        }
      ]
    }
  ]
}